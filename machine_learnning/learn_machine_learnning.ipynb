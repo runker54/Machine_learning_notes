{
 "cells": [
  {
   "cell_type": "markdown",
   "metadata": {},
   "source": [
    "# 动手实战人工智能"
   ]
  },
  {
   "cell_type": "markdown",
   "metadata": {},
   "source": [
    "## 1、环境说明\n",
    "所有内容均使用jupyter notebook进行编写，使用python3.10进行编写，系统为windows11的wsl ubuntu20.04。运行环境为jupyter notebook。\n",
    "\n"
   ]
  },
  {
   "cell_type": "markdown",
   "metadata": {},
   "source": [
    "## 2、机器学习综述及示例\n",
    "### 2.1 介绍\n",
    "机器学习是概率论、统计学、计算理论、最优化方法、以及计算机科学组成的交叉学科，其主要的研究对象是如何从经验中学习并改善具体算法的性能。"
   ]
  },
  {
   "cell_type": "markdown",
   "metadata": {},
   "source": [
    "### 2.2 知识点\n",
    "- 机器学习介绍\n",
    "- 监督学习介绍\n",
    "- 无监督学习介绍"
   ]
  },
  {
   "cell_type": "markdown",
   "metadata": {},
   "source": [
    "### 2.3 机器学习介绍\n",
    "机器学习Machine Learnning是人工智能的一个分支，其核心构成为机器学习算法，并通过从数据中获取经验来改善自身的性能。机器学习的诞生时间很早，但随着近些年计算机技术及相关领域的迅速发展，机器学习再次变得火热起来。\\\n",
    "A computer program is said to learn from experience E with respect to some task T and some performance measure P, if its performance on T, as measured by P, improves with experience E. \n",
    "\n",
    "机器学习的主要目标是通过从数据中获取经验来改善自身的性能，从而达到预测、分类、聚类、回归等功能。\n",
    "机器学习的主要分为监督学习和无监督学习。"
   ]
  },
  {
   "cell_type": "markdown",
   "metadata": {},
   "source": [
    "### 2.4 机器学习&深度学习&人工智能\n",
    "机器学习的核心是寻求实现人工智能的方法。于是就出现了朴素贝叶斯、决策树学习、人工神经网络等众多机器学习方法。其中，人工神经网络（ANN）是模拟大脑生物结构的一种算法，目前，我们通常所说的「机器学习」大致包含四大类：监督学习，英文为 Supervised Learning；无监督学习，英文为 Unsupervised Learning；半监督学习，英文为 Semi-supervised Learning；强化学习，英文为 Reinforcement Learning。"
   ]
  },
  {
   "cell_type": "markdown",
   "metadata": {},
   "source": [
    "### 2.5 监督学习方法\n",
    "supervised learnning is the machine learning task of learning a function that maps an input to an output based on example input-output pairs. It infers a function from labeled training data consisting of a set of training examples.\n",
    "解释一下这句话中的几个关键词。示例输入和输出数据对其实就是训练数据集，而输入指的是训练数据集中的特征变量，输出则是标签。而建立数学函数，实际就是训练机器学习预测模型。这句话，其实就是一个典型的机器学习过程。而监督学习的关键在于，这里提供的训练数据集有标签。\n"
   ]
  },
  {
   "cell_type": "markdown",
   "metadata": {},
   "source": [
    "## 3、线性回归实现与应用\n",
    "### 3.1、介绍\n",
    "线性回归是一种较为简单，但十分重要的机器学习方法。掌握线性的原理及求解方法，是深入了解线性回归的基本要求。除此之外，线性回归也是监督学习回归部分的基石。"
   ]
  },
  {
   "cell_type": "markdown",
   "metadata": {},
   "source": [
    "### 3.2、 知识点\n",
    "- 一元线性回归\n",
    "- 平方损失函数\n",
    "- 最小二乘法及代数求解\n",
    "- 最小二乘法矩阵求解\n",
    "- 线性回归综合案例"
   ]
  },
  {
   "cell_type": "markdown",
   "metadata": {},
   "source": [
    "### 3.3、 线性回归介绍\n",
    "线性回归是一种常见的机器学习算法，它可以用来预测一个连续变量。\n",
    "线性回归的目标是找到一个函数，使得预测值与真实值之间的差距最小。\n",
    "线性回归的一般形式为：\n",
    "$$\n",
    "y = w_0 + w_1 x_1 + w_2 x_2 +... + w_n x\n",
    "$$\n",
    "其中，$w_0$是截距，$w_1, w_2,..., w_n$是权重，$x_1, x_2,..., x_n$是特征。"
   ]
  },
  {
   "cell_type": "markdown",
   "metadata": {},
   "source": [
    "### 3.4、一元线性回归\n",
    "上面针对 线性回归 的介绍内容中，我们列举了一个房屋面积与房价变化的例子。其中，房屋面积为自变量，而房价则为因变量。另外，我们将只有 1 个自变量的线性拟合过程叫做一元线性回归。\n",
    "\n",
    "下面，我们就生成一组房屋面积和房价变化的示例数据。\n",
    " $x$为房屋面积，单位是平方米; \n",
    " $y$为房价，单位是万元。"
   ]
  },
  {
   "cell_type": "code",
   "execution_count": 13,
   "metadata": {},
   "outputs": [
    {
     "data": {
      "image/png": "[encoded data removed]",
      "text/plain": [
       "<Figure size 640x480 with 1 Axes>"
      ]
     },
     "metadata": {},
     "output_type": "display_data"
    }
   ],
   "source": [
    "import numpy as np \n",
    "import matplotlib.pyplot as plt\n",
    "%matplotlib inline\n",
    "x = np.random.randint(90,140,10)\n",
    "y = [_ * np.random.randint(1,5)*0.1 + _ for _ in x]\n",
    "plt.scatter(x,y)\n",
    "plt.xlabel(\"Area\")\n",
    "plt.ylabel(\"Price\")\n",
    "plt.title(\"Area vs Price\")\n",
    "plt.show()\n",
    "x = x\n",
    "y = y"
   ]
  },
  {
   "cell_type": "markdown",
   "metadata": {},
   "source": [
    "正如上面所说，线性回归即通过线性方程去拟合数据点。那么，我们可以令该 1 次函数的表达式为：\n",
    "$$y(x, w) = w_0 + w_1x \\tag{1}$$\n",
    "公式 $(1)$是典型的一元一次函数表达式，我们通过组合不同的 $w_0$和 $w_1$的值得到不同的拟合直线。接下来，对公式 $(1)$进行代码实现："
   ]
  },
  {
   "cell_type": "code",
   "execution_count": 15,
   "metadata": {},
   "outputs": [],
   "source": [
    "def f(x:list,w0:float,w1:float):\n",
    "    y = w0+w1*x\n",
    "    return y"
   ]
  },
  {
   "cell_type": "markdown",
   "metadata": {},
   "source": [
    "### 3.5、 平方损失函数\n",
    "如果一个数据点$x_{i}$，那么他对应的误差就为：\n",
    "$$\n",
    "y_{i}-(w_0 + w_1x_{i}) \\tag{2}\n",
    "$$\n",
    "上面的误差往往也称之为残差。但在机器学习中，我们更喜欢称之为损失，即真实值与预测值之间的偏离度。那么对$n$个全部数据点而言，其对应的残差损失总和就为：\n",
    "$$\n",
    "\\sum_{i=1}^{n}(y_{i}-(w_0 + w_1x_{i}))^2 \\tag{3}\n",
    "$$\n",
    "在上面的公式中，$w_0$和$w_1$是模型的参数，$y_{i}$是真实值，$x_{i}$是特征值。\n",
    "\n",
    "更进一步，在线性回归中，我们一般使用残差的平方和来表示所有样本点的误差。公式如下：\n",
    "$$\n",
    "\\sum_{i=1}^{n}(y_{i}-(w_0 + w_1x_{i}))^2 \\tag{4}\n",
    "$$\n",
    "在上面的公式中，$w_0$和$w_1$是模型的参数，$y_{i}$是真实值，$x_{i}$是特征值。\n",
    "\n",
    "使用残差平方和的好处在于能保证损失始终是累加的正数，而不会存在正负残差抵消的问题。对于公式$（4）$而言，机器学习中有一个专门的名词，就是平方损失函数。而为了得到拟合参数$w_0$和$w_1$，我们需要最小化平方损失函数。\n"
   ]
  },
  {
   "cell_type": "code",
   "execution_count": 17,
   "metadata": {},
   "outputs": [],
   "source": [
    "# 我们对公式4进行代码实现\n",
    "def square_loss(x:np.ndarray,y:np.ndarray,w0:float,w1:float):\n",
    "    loss = sum(np.square(y-(w0+w1*x)))\n",
    "    return loss"
   ]
  },
  {
   "cell_type": "markdown",
   "metadata": {},
   "source": [
    "如果某条直线拟合样本得到的总损失最小，那么这条直线就是最终想得到的结果，而求解最损失最小值的过程，就必须用到下面的数学方法。"
   ]
  },
  {
   "cell_type": "markdown",
   "metadata": {},
   "source": [
    "### 3.6、 最小二乘法代数求解\n",
    "最小二乘法是用于求解线性回归拟合参数$w$的一种常用方法。最小二乘法中的二乘代表平法，最小二乘法也就是最小平法。而这里的平方就是指代上面的平方损失函数（loss）。\n",
    "求解便需用到高等数学中的知识。推导如下：\n",
    "\n",
    "首先，平方损失函数为：\n",
    "$$\n",
    "f = \\sum\\limits_{i = 1}^n {{{(y_{i}-(w_0 + w_1x_{i}))}}^2} \\tag{5}\n",
    "$$\n",
    "我们的目标是求取平方损失函数$ming(f)$最小时，对应的$w$。首先求$f$的1阶偏导数：\n",
    "$$\\frac{\\partial f}{\\partial w_{0}}=-2(\\sum_{i=1}^{n}{y_i}-nw_{0}-w_{1}\\sum_{i=1}^{n}{x_i}) \\tag{6a}$$\n",
    "$$\\frac{\\partial f}{\\partial w_{1}}=-2(\\sum_{i=1}^{n}{x_iy_i}-w_{0}\\sum_{i=1}^{n}{x_i}-w_{1}\\sum_{i=1}^{n}{x_i}^2) \\tag{6b}$$\n",
    "\n",
    "然后，我们令$\\frac{\\partial f}{\\partial w_{0}}=0$以及$\\frac{\\partial f}{\\partial w_{1}}=0$，得到：\n",
    "$$w_{1}=\\frac {n\\sum_{}^{}{x_iy_i}-\\sum_{}^{}{x_i}\\sum_{}^{}{y_i}} {n\\sum_{}^{}{x_i}^2-(\\sum_{}^{}{x_i})^2} \\tag{7b}$$\n",
    "$$w_{0}=\\frac {\\sum_{}^{}{x_i}^2\\sum_{}^{}{y_i}-\\sum_{}^{}{x_i}\\sum_{}^{}{x_iy_i}} {n\\sum_{}^{}{x_i}^2-(\\sum_{}^{}{x_i})^2} \\tag{7b}$$\n",
    "现在，我们已经求出了平方损失函数最小时对应的$w$参数值，这也就是最佳拟合直线。下面我们将公式进行代码实现。\n"
   ]
  },
  {
   "cell_type": "code",
   "execution_count": 18,
   "metadata": {},
   "outputs": [],
   "source": [
    "def least_squares_algebraic(x:np.ndarray,y:np.ndarray):\n",
    "    n = x.shape[0]\n",
    "    w0 = (sum(x**2)*sum(y)-sum(x)*sum(x*y)) / (n*sum(x**2)-sum(x)**2)\n",
    "    w1 = (n*sum(x*y)-sum(x)*sum(y)) / (n*sum(x**2)-sum(x)**2)\n",
    "    return w0,w1"
   ]
  },
  {
   "cell_type": "markdown",
   "metadata": {},
   "source": [
    "现在传入我们之前生成的$x$,$y$数据到这个函数后便可得到$w_0$和$w_1$的值。"
   ]
  },
  {
   "cell_type": "code",
   "execution_count": 19,
   "metadata": {},
   "outputs": [
    {
     "data": {
      "text/plain": [
       "(-38.071111111112465, 1.5922027290448495)"
      ]
     },
     "execution_count": 19,
     "metadata": {},
     "output_type": "execute_result"
    }
   ],
   "source": [
    "least_squares_algebraic(x,y)"
   ]
  },
  {
   "cell_type": "markdown",
   "metadata": {},
   "source": [
    "我们也可以求得此时对应的平方损失函数"
   ]
  },
  {
   "cell_type": "code",
   "execution_count": 20,
   "metadata": {},
   "outputs": [
    {
     "data": {
      "text/plain": [
       "842.7368654970767"
      ]
     },
     "execution_count": 20,
     "metadata": {},
     "output_type": "execute_result"
    }
   ],
   "source": [
    "w0 = least_squares_algebraic(x,y)[0]\n",
    "w1 = least_squares_algebraic(x,y)[1]\n",
    "square_loss(x,y,w0,w1)"
   ]
  },
  {
   "cell_type": "markdown",
   "metadata": {},
   "source": [
    "接下来，我们尝试将拟合得到的直线绘制到原图中："
   ]
  },
  {
   "cell_type": "code",
   "execution_count": 22,
   "metadata": {},
   "outputs": [
    {
     "data": {
      "image/png": "[encoded data removed]",
      "text/plain": [
       "<Figure size 640x480 with 1 Axes>"
      ]
     },
     "metadata": {},
     "output_type": "display_data"
    }
   ],
   "source": [
    "x_temp = np.linspace(80,150,100)\n",
    "\n",
    "plt.scatter(x,y)\n",
    "plt.plot(x_temp,w0+w1*x_temp,\"c\")\n",
    "plt.show()"
   ]
  },
  {
   "cell_type": "markdown",
   "metadata": {},
   "source": [
    "于是我们便可以用该函数进行预测了，如果你有一个180平方的房子想出售，你只需将参数带入即可。"
   ]
  },
  {
   "cell_type": "code",
   "execution_count": 23,
   "metadata": {},
   "outputs": [
    {
     "data": {
      "text/plain": [
       "248.52538011696046"
      ]
     },
     "execution_count": 23,
     "metadata": {},
     "output_type": "execute_result"
    }
   ],
   "source": [
    "f(180,w0,w1)"
   ]
  },
  {
   "cell_type": "markdown",
   "metadata": {},
   "source": [
    "这里得到180平方的房子预估为248.52万。这就是一个最小二乘法求解线性回归问题的完整过程。"
   ]
  },
  {
   "cell_type": "markdown",
   "metadata": {},
   "source": [
    "### 3.7、 最小二乘法的矩阵求解\n",
    "首先，一元线性函数的表达式为 $y(x, w) = w_0 + w_1x$，表达成矩阵形式为:\n",
    "$$\\begin{split}\n",
    "\\left[ \\begin{array}{c}{1, x_{1}} \\\\ {1, x_{2}} \\\\ {\\cdots} \\\\ {1, x_{9}} \\\\ {1, x_{10}}\\end{array}\\right] \\left[ \\begin{array}{c}{w_{0}} \\\\ {w_{1}}\\end{array}\\right] = \\left[ \\begin{array}{c}{y_{1}} \\\\ {y_{2}} \\\\ {\\cdots} \\\\ {y_{9}} \\\\ {y_{10}}\\end{array}\\right] \\Rightarrow \\left[ \\begin{array}{c}{1,\\cdots} \\\\ {1,\\cdots} \\\\ {\\cdots} \\\\ {1,\\cdots} \\\\ {1,\\cdots}\\end{array}\\right] \\left[ \\begin{array}{c}{w_{0}} \\\\ {w_{1}}\\end{array}\\right]=\\left[ \\begin{array}{c}{\\cdots} \\\\ {\\cdots} \\\\ {\\cdots} \\\\ {\\cdots} \\\\ {\\cdots}\\end{array}\\right]\n",
    "\\end{split}$$\n",
    "\n",
    "即：\n",
    "$$y(x, w) = XW \\tag{8b}$$\n",
    "\n",
    "$(8)$式中，$W$为$\\begin{bmatrix}w_{0}\\\\ w_{1}\\end{bmatrix}$,而$X$则是$\\begin{bmatrix}1, x_{1}\\\\ 1, x_{2}\\\\ \\cdots\\\\ 1, x_{9}\\\\ 1, x_{10}\\end{bmatrix}$矩阵。然后，平方损失函数为：$$f = \\sum\\limits_{i = 1}^n {{{(y_{i}-(w_0 + w_1x_{i}))}}}^2 =(y-XW)^T(y-XW)\\tag{9}$$\n",
    "通过对公式$(9)$实施矩阵计算乘法分配律得到：\n",
    "$$f = y^{T}y - y^{T}(XW) - (XW)^{T}y + (XW)^{T}(XW) \\tag{10}$$\n",
    "在该公式中$y$与$XW$皆为相同形式的$(m,1)$矩阵，由此两者相乘属于线性关系，可等价转换如下：\n",
    "$$\\begin{split}\n",
    "f = y^{T}y - (XW)^{T}y - (XW)^{T}y + (XW)^{T}(XW)\\\\ = y^{T}y - 2 (XW)^{T}y + (XW)^{T}(XW)\n",
    "\\end{split}$$\n",
    "对矩阵求偏导数得到：\n",
    "$$\\frac{\\partial f}{\\partial W}=2X^TXW-2X^Ty=0 \\tag{12}$$\n",
    "当矩阵$X^TX$满秩时，$(X^TX)^{-1}X^TX=E$,且$EW=W$。所以有$(X^TX)^{-1}X^TXW=(X^TX)^{-1}X^Ty$，并最终得到：\n",
    "$$W=(X^TX)^{-1}X^Ty \\tag{13}$$"
   ]
  },
  {
   "cell_type": "code",
   "execution_count": 30,
   "metadata": {},
   "outputs": [],
   "source": [
    "# 对公式13进行代码实现\n",
    "def least_squares_matrix(X:np.matrix, Y:np.matrix):\n",
    "    w = (X.T * X).I * X.T * Y\n",
    "    return w"
   ]
  },
  {
   "cell_type": "markdown",
   "metadata": {},
   "source": [
    "计算时，需要参考上方计算公式对原$x$数据添加截距项系数 1，这里使用 ```np.hstack``` 方法。"
   ]
  },
  {
   "cell_type": "code",
   "execution_count": 26,
   "metadata": {},
   "outputs": [
    {
     "data": {
      "text/plain": [
       "(matrix([[  1., 102.],\n",
       "         [  1.,  95.],\n",
       "         [  1.,  94.],\n",
       "         [  1., 126.],\n",
       "         [  1., 125.],\n",
       "         [  1., 137.],\n",
       "         [  1., 105.],\n",
       "         [  1., 139.],\n",
       "         [  1., 126.],\n",
       "         [  1.,  91.]]),\n",
       " matrix([[122.4],\n",
       "         [104.5],\n",
       "         [112.8],\n",
       "         [151.2],\n",
       "         [175. ],\n",
       "         [164.4],\n",
       "         [136.5],\n",
       "         [194.6],\n",
       "         [163.8],\n",
       "         [109.2]]))"
      ]
     },
     "execution_count": 26,
     "metadata": {},
     "output_type": "execute_result"
    }
   ],
   "source": [
    "x_matrix = np.matrix(np.hstack((np.ones((x.shape[0], 1)), x.reshape(x.shape[0], 1))))\n",
    "y = np.array(y)\n",
    "y_matrix = np.matrix(y.reshape(y.shape[0], 1))\n",
    "x_matrix, y_matrix"
   ]
  },
  {
   "cell_type": "code",
   "execution_count": 32,
   "metadata": {},
   "outputs": [
    {
     "data": {
      "text/plain": [
       "(matrix([[-38.07111111],\n",
       "         [  1.59220273]]),\n",
       " (-38.071111111112465, 1.5922027290448495))"
      ]
     },
     "execution_count": 32,
     "metadata": {},
     "output_type": "execute_result"
    }
   ],
   "source": [
    "least_squares_matrix(x_matrix, y_matrix),least_squares_algebraic(x,y)"
   ]
  },
  {
   "cell_type": "markdown",
   "metadata": {},
   "source": [
    "通过对比，两种方法计算的结果一致。为什么要采用矩阵变换的方式计算？一开始学习的代数计算方法不好吗？其实，并不是说代数计算方式不好，在小数据集下二者运算效率接近。但是，当我们面对十万或百万规模的数据时，矩阵计算的效率就会高很多，这就是为什么要学习矩阵计算的原因"
   ]
  },
  {
   "cell_type": "markdown",
   "metadata": {},
   "source": [
    "### 3.8、 线性回归scikit-learn实现\n",
    "上面的内容中，我们学习了什么是最小二乘法，以及使用 Python 对最小二乘线性回归进行了完整实现。那么，我们如何利用机器学习开源模块 scikit-learn 实现最小二乘线性回归方法呢？\n",
    "\n",
    "使用 scikit-learn 实现线性回归的过程会简单很多，这里要用到```LinearRegression()```类。看一下其中的参数:\n",
    "\n",
    "```sklearn.linear_model.LinearRegression(fit_intercept=True, normalize=False, copy_X=True, n_jobs=1)```\n",
    "\n",
    "- fit_intercept: 默认为 True，计算截距项。\n",
    "- normalize: 默认为 False，不针对数据进行标准化处理。\n",
    "- copy_X: 默认为 True，即使用数据的副本进行操作，防止影响原数据。\n",
    "- n_jobs: 计算时的作业数量。默认为 1，若为 -1 则使用全部 CPU 参与运算。"
   ]
  },
  {
   "cell_type": "code",
   "execution_count": 33,
   "metadata": {},
   "outputs": [
    {
     "data": {
      "text/plain": [
       "(-38.071111111111065, array([1.59220273]))"
      ]
     },
     "execution_count": 33,
     "metadata": {},
     "output_type": "execute_result"
    }
   ],
   "source": [
    "from sklearn.linear_model import LinearRegression\n",
    "\n",
    "# 定义线性回归模型\n",
    "model = LinearRegression()\n",
    "model.fit(x.reshape(x.shape[0], 1), y)  # 训练, reshape 操作把数据处理成 fit 能接受的形状\n",
    "\n",
    "# 得到模型拟合参数\n",
    "model.intercept_, model.coef_"
   ]
  },
  {
   "cell_type": "code",
   "execution_count": 36,
   "metadata": {},
   "outputs": [
    {
     "data": {
      "text/plain": [
       "(array([248.52538012]), 248.52538011696046)"
      ]
     },
     "execution_count": 36,
     "metadata": {},
     "output_type": "execute_result"
    }
   ],
   "source": [
    "# 通过模型预测\n",
    "model.predict([[180]]),f(180,w0,w1)"
   ]
  },
  {
   "cell_type": "markdown",
   "metadata": {},
   "source": [
    "可以看到，这里得出的结果和自行实现计算的结果是一致的。"
   ]
  },
  {
   "cell_type": "markdown",
   "metadata": {},
   "source": [
    "### 3.10、总结\n",
    "我们从线性回归原理入手，学习了最小二乘法的两种求解方法，并针对线性回归算法进行了完整实现。在这个过程中，你了解到了机器学习的训练和预测流程，以及背后的数学思想。\n",
    "\n",
    "总结而来，一个机器学习过程往往包含训练和预测两部分，训练好的模型可用于对未知数据的预测。而训练模型的过程，实际上是应用机器学习算法解决问题的过程。其中，我们通常会定义一个损失函数（平方损失函数），并使用一种数学优化方法（最小二乘法）去求解该损失函数的最优解。这个思想将始终贯穿于机器学习之中。"
   ]
  },
  {
   "cell_type": "markdown",
   "metadata": {},
   "source": [
    "## 4、 线性回归房价预测\n",
    "### 4.1、 本次挑战中，运用从线性回归中学习到的相关知识，来预测北京市的住房价格。\n",
    "### 4.2、 知识点\n",
    "- 数据集读取与划分\n",
    "- 模型训练及预测\n",
    "- 模型评价"
   ]
  },
  {
   "cell_type": "markdown",
   "metadata": {},
   "source": [
    "### 4.3、 数据集读取与划分\n"
   ]
  },
  {
   "cell_type": "code",
   "execution_count": 7,
   "metadata": {},
   "outputs": [
    {
     "data": {
      "text/html": [
       "<div>\n",
       "<style scoped>\n",
       "    .dataframe tbody tr th:only-of-type {\n",
       "        vertical-align: middle;\n",
       "    }\n",
       "\n",
       "    .dataframe tbody tr th {\n",
       "        vertical-align: top;\n",
       "    }\n",
       "\n",
       "    .dataframe thead th {\n",
       "        text-align: right;\n",
       "    }\n",
       "</style>\n",
       "<table border=\"1\" class=\"dataframe\">\n",
       "  <thead>\n",
       "    <tr style=\"text-align: right;\">\n",
       "      <th></th>\n",
       "      <th>公交</th>\n",
       "      <th>写字楼</th>\n",
       "      <th>医院</th>\n",
       "      <th>商场</th>\n",
       "      <th>地铁</th>\n",
       "      <th>学校</th>\n",
       "      <th>小区名字</th>\n",
       "      <th>建造时间</th>\n",
       "      <th>房型</th>\n",
       "      <th>楼层</th>\n",
       "      <th>每平米价格</th>\n",
       "      <th>面积</th>\n",
       "    </tr>\n",
       "  </thead>\n",
       "  <tbody>\n",
       "    <tr>\n",
       "      <th>0</th>\n",
       "      <td>18</td>\n",
       "      <td>18</td>\n",
       "      <td>10</td>\n",
       "      <td>0</td>\n",
       "      <td>2</td>\n",
       "      <td>49</td>\n",
       "      <td>远洋山水</td>\n",
       "      <td>2006</td>\n",
       "      <td>2室1厅</td>\n",
       "      <td>26</td>\n",
       "      <td>60937</td>\n",
       "      <td>96</td>\n",
       "    </tr>\n",
       "    <tr>\n",
       "      <th>1</th>\n",
       "      <td>17</td>\n",
       "      <td>42</td>\n",
       "      <td>10</td>\n",
       "      <td>0</td>\n",
       "      <td>4</td>\n",
       "      <td>37</td>\n",
       "      <td>椿树园</td>\n",
       "      <td>1998</td>\n",
       "      <td>3室1厅</td>\n",
       "      <td>14</td>\n",
       "      <td>88686</td>\n",
       "      <td>130</td>\n",
       "    </tr>\n",
       "    <tr>\n",
       "      <th>2</th>\n",
       "      <td>18</td>\n",
       "      <td>36</td>\n",
       "      <td>9</td>\n",
       "      <td>0</td>\n",
       "      <td>1</td>\n",
       "      <td>24</td>\n",
       "      <td>永乐小区</td>\n",
       "      <td>1989</td>\n",
       "      <td>3室1厅</td>\n",
       "      <td>18</td>\n",
       "      <td>46621</td>\n",
       "      <td>74</td>\n",
       "    </tr>\n",
       "    <tr>\n",
       "      <th>3</th>\n",
       "      <td>15</td>\n",
       "      <td>49</td>\n",
       "      <td>13</td>\n",
       "      <td>0</td>\n",
       "      <td>2</td>\n",
       "      <td>45</td>\n",
       "      <td>主语家园</td>\n",
       "      <td>2007</td>\n",
       "      <td>4室3厅</td>\n",
       "      <td>2</td>\n",
       "      <td>86147</td>\n",
       "      <td>462</td>\n",
       "    </tr>\n",
       "    <tr>\n",
       "      <th>4</th>\n",
       "      <td>6</td>\n",
       "      <td>0</td>\n",
       "      <td>0</td>\n",
       "      <td>0</td>\n",
       "      <td>0</td>\n",
       "      <td>0</td>\n",
       "      <td>天伦锦城</td>\n",
       "      <td>2007</td>\n",
       "      <td>1室1厅</td>\n",
       "      <td>13</td>\n",
       "      <td>42500</td>\n",
       "      <td>64</td>\n",
       "    </tr>\n",
       "  </tbody>\n",
       "</table>\n",
       "</div>"
      ],
      "text/plain": [
       "   公交  写字楼  医院  商场  地铁  学校  小区名字  建造时间    房型  楼层  每平米价格   面积\n",
       "0  18   18  10   0   2  49  远洋山水  2006  2室1厅  26  60937   96\n",
       "1  17   42  10   0   4  37   椿树园  1998  3室1厅  14  88686  130\n",
       "2  18   36   9   0   1  24  永乐小区  1989  3室1厅  18  46621   74\n",
       "3  15   49  13   0   2  45  主语家园  2007  4室3厅   2  86147  462\n",
       "4   6    0   0   0   0   0  天伦锦城  2007  1室1厅  13  42500   64"
      ]
     },
     "execution_count": 7,
     "metadata": {},
     "output_type": "execute_result"
    }
   ],
   "source": [
    "import pandas as pd \n",
    "data = pd.read_csv('../data/beijing.csv')\n",
    "data.head()"
   ]
  },
  {
   "cell_type": "code",
   "execution_count": 2,
   "metadata": {},
   "outputs": [
    {
     "data": {
      "text/html": [
       "<div>\n",
       "<style scoped>\n",
       "    .dataframe tbody tr th:only-of-type {\n",
       "        vertical-align: middle;\n",
       "    }\n",
       "\n",
       "    .dataframe tbody tr th {\n",
       "        vertical-align: top;\n",
       "    }\n",
       "\n",
       "    .dataframe thead th {\n",
       "        text-align: right;\n",
       "    }\n",
       "</style>\n",
       "<table border=\"1\" class=\"dataframe\">\n",
       "  <thead>\n",
       "    <tr style=\"text-align: right;\">\n",
       "      <th></th>\n",
       "      <th>公交</th>\n",
       "      <th>写字楼</th>\n",
       "      <th>医院</th>\n",
       "      <th>商场</th>\n",
       "      <th>地铁</th>\n",
       "      <th>学校</th>\n",
       "      <th>建造时间</th>\n",
       "      <th>楼层</th>\n",
       "      <th>面积</th>\n",
       "      <th>每平米价格</th>\n",
       "    </tr>\n",
       "  </thead>\n",
       "  <tbody>\n",
       "    <tr>\n",
       "      <th>0</th>\n",
       "      <td>18</td>\n",
       "      <td>18</td>\n",
       "      <td>10</td>\n",
       "      <td>0</td>\n",
       "      <td>2</td>\n",
       "      <td>49</td>\n",
       "      <td>2006</td>\n",
       "      <td>26</td>\n",
       "      <td>96</td>\n",
       "      <td>60937</td>\n",
       "    </tr>\n",
       "    <tr>\n",
       "      <th>1</th>\n",
       "      <td>17</td>\n",
       "      <td>42</td>\n",
       "      <td>10</td>\n",
       "      <td>0</td>\n",
       "      <td>4</td>\n",
       "      <td>37</td>\n",
       "      <td>1998</td>\n",
       "      <td>14</td>\n",
       "      <td>130</td>\n",
       "      <td>88686</td>\n",
       "    </tr>\n",
       "    <tr>\n",
       "      <th>2</th>\n",
       "      <td>18</td>\n",
       "      <td>36</td>\n",
       "      <td>9</td>\n",
       "      <td>0</td>\n",
       "      <td>1</td>\n",
       "      <td>24</td>\n",
       "      <td>1989</td>\n",
       "      <td>18</td>\n",
       "      <td>74</td>\n",
       "      <td>46621</td>\n",
       "    </tr>\n",
       "    <tr>\n",
       "      <th>3</th>\n",
       "      <td>15</td>\n",
       "      <td>49</td>\n",
       "      <td>13</td>\n",
       "      <td>0</td>\n",
       "      <td>2</td>\n",
       "      <td>45</td>\n",
       "      <td>2007</td>\n",
       "      <td>2</td>\n",
       "      <td>462</td>\n",
       "      <td>86147</td>\n",
       "    </tr>\n",
       "    <tr>\n",
       "      <th>4</th>\n",
       "      <td>6</td>\n",
       "      <td>0</td>\n",
       "      <td>0</td>\n",
       "      <td>0</td>\n",
       "      <td>0</td>\n",
       "      <td>0</td>\n",
       "      <td>2007</td>\n",
       "      <td>13</td>\n",
       "      <td>64</td>\n",
       "      <td>42500</td>\n",
       "    </tr>\n",
       "  </tbody>\n",
       "</table>\n",
       "</div>"
      ],
      "text/plain": [
       "   公交  写字楼  医院  商场  地铁  学校  建造时间  楼层   面积  每平米价格\n",
       "0  18   18  10   0   2  49  2006  26   96  60937\n",
       "1  17   42  10   0   4  37  1998  14  130  88686\n",
       "2  18   36   9   0   1  24  1989  18   74  46621\n",
       "3  15   49  13   0   2  45  2007   2  462  86147\n",
       "4   6    0   0   0   0   0  2007  13   64  42500"
      ]
     },
     "execution_count": 2,
     "metadata": {},
     "output_type": "execute_result"
    }
   ],
   "source": [
    "# 分割数据构建特征列和目标值列\n",
    "features = data[['公交','写字楼','医院','商场','地铁','学校','建造时间','楼层','面积']]\n",
    "target = data['每平米价格']\n",
    "pd.concat([features,target],axis=1).head()"
   ]
  },
  {
   "cell_type": "code",
   "execution_count": 5,
   "metadata": {},
   "outputs": [
    {
     "data": {
      "text/plain": [
       "(2100, 2100, 900, 900)"
      ]
     },
     "execution_count": 5,
     "metadata": {},
     "output_type": "execute_result"
    }
   ],
   "source": [
    "# 分割训练集与测试集\n",
    "from sklearn.model_selection import train_test_split\n",
    "X = features\n",
    "y = target\n",
    "X_train, X_test, y_train, y_test = train_test_split(X, y, test_size=0.3, random_state=42)\n",
    "len(X_train), len(y_train), len(X_test), len(y_test)"
   ]
  },
  {
   "cell_type": "markdown",
   "metadata": {},
   "source": [
    "### 4.4、 模型训练及预测\n",
    "有了训练和测试数据，下面就可以开始构建机器学习模型。这里直接使用 scikit-learn 中的线性回归方法建立模型。\n"
   ]
  },
  {
   "cell_type": "code",
   "execution_count": 8,
   "metadata": {},
   "outputs": [
    {
     "data": {
      "text/plain": [
       "array([-4.58049037e+02,  2.39740827e+02,  5.27401537e+02, -5.90461013e-12,\n",
       "        1.90371450e+03,  3.89367581e+02, -6.07946160e+00,  1.09838790e+02,\n",
       "        3.88387792e+01])"
      ]
     },
     "execution_count": 8,
     "metadata": {},
     "output_type": "execute_result"
    }
   ],
   "source": [
    "from sklearn.linear_model import LinearRegression\n",
    "model = LinearRegression()\n",
    "model.fit(X_train, y_train)\n",
    "# 查看参数\n",
    "model.coef_"
   ]
  },
  {
   "cell_type": "markdown",
   "metadata": {},
   "source": [
    "### 4.5、 模型评价\n",
    "在线性回归实验中，我们提供了两种回归预测结果的评价指标，分别是平均绝对误差 MAE 和均方误差 MSE。本次挑战中，我们另介绍一种评价指标，那就是平均绝对百分比误差 MAPE。\n",
    "MAPE 是一个百分比值，因此比其他统计量更容易理解。例如，如果 MAPE 为 $5$，则表示预测结果较真实结果平均偏离 $5%$。MAPE 的计算公式如下：\n",
    "$$\\textrm{MAPE}(y, \\hat{y} ) = \\frac{\\sum_{i=1}^{n}{|\\frac{y_{i}-\\hat y_{i}}{y_{i}}|}}{n} \\times 100 \\tag{1}$$\n",
    "其中，$y_i$表示真实值，$\\hat y_{i}$表示预测值，$n$则表示值的个数。MAPE 的值越小，说明预测模型拥有更好的精确度。\n"
   ]
  },
  {
   "cell_type": "code",
   "execution_count": 9,
   "metadata": {},
   "outputs": [],
   "source": [
    "import numpy as np\n",
    "\n",
    "def mape(y_true, y_pred):\n",
    "    n = len(y_true)\n",
    "    mape = 100 * np.sum(np.abs((y_true-y_pred)/y_true)) / n\n",
    "    return mape"
   ]
  },
  {
   "cell_type": "code",
   "execution_count": 10,
   "metadata": {},
   "outputs": [
    {
     "data": {
      "text/plain": [
       "46.95559808873634"
      ]
     },
     "execution_count": 10,
     "metadata": {},
     "output_type": "execute_result"
    }
   ],
   "source": [
    "y_true = y_test.values\n",
    "y_pred = model.predict(X_test)\n",
    "mape(y_true, y_pred)"
   ]
  },
  {
   "cell_type": "markdown",
   "metadata": {},
   "source": [
    "可以看到，最终得到的 MAPE 值较大，意味着预测的偏移量较大。在线性回归实验中，我们提到预测结果较差的一个原因可能是数据没有经过预处理。除此之外，线性回归本身就是一种非常基础简单的预测方法。对于房价这种包含多个特征的预测问题，我们往往要使用更复杂的方法来进行回归预测才能得到更好的结果。"
   ]
  }
 ],
 "metadata": {
  "kernelspec": {
   "display_name": "Python 3",
   "language": "python",
   "name": "python3"
  },
  "language_info": {
   "codemirror_mode": {
    "name": "ipython",
    "version": 3
   },
   "file_extension": ".py",
   "mimetype": "text/x-python",
   "name": "python",
   "nbconvert_exporter": "python",
   "pygments_lexer": "ipython3",
   "version": "3.8.10"
  }
 },
 "nbformat": 4,
 "nbformat_minor": 2
}
